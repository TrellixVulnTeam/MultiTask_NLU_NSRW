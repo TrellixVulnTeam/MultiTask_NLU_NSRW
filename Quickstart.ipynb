{
  "nbformat": 4,
  "nbformat_minor": 0,
  "metadata": {
    "colab": {
      "name": "NLP_MultiTask_MultiLang_HuggingFace_MASSIVE.ipynb",
      "provenance": [],
      "collapsed_sections": [
        "EGzk3bgLS8Qn"
      ],
      "machine_shape": "hm"
    },
    "kernelspec": {
      "name": "python3",
      "display_name": "Python 3"
    },
    "language_info": {
      "name": "python"
    },
    "accelerator": "GPU"
  },
  "cells": [
    {
      "cell_type": "markdown",
      "source": [
        "# Setup"
      ],
      "metadata": {
        "id": "SC_tUDiIQB31"
      }
    },
    {
      "cell_type": "markdown",
      "source": [
        "Clone repo and install requirements"
      ],
      "metadata": {
        "id": "4pUQuBogZIYE"
      }
    },
    {
      "cell_type": "code",
      "source": [
        "%%script bash\n",
        "git clone https://github.com/hedrergudene/MultiTask_NLU.git\n",
        "cd MultiTask_NLU\n",
        "pip install -r requirements.txt\n",
        "python -m spacy download en_core_web_sm"
      ],
      "metadata": {
        "id": "D-72W6c1QDdr"
      },
      "execution_count": null,
      "outputs": []
    },
    {
      "cell_type": "markdown",
      "source": [
        "Change working directory"
      ],
      "metadata": {
        "id": "INHANY96ZE0c"
      }
    },
    {
      "cell_type": "code",
      "source": [
        "%cd MultiTask_NLU"
      ],
      "metadata": {
        "id": "rqvj6Tl_TYR2"
      },
      "execution_count": null,
      "outputs": []
    },
    {
      "cell_type": "markdown",
      "source": [
        "# Change configuration files"
      ],
      "metadata": {
        "id": "gH1Cs2Z6rjFL"
      }
    },
    {
      "cell_type": "code",
      "source": [
        "# Load dictionary\n",
        "import json\n",
        "\n",
        "# W&B\n",
        "with open('input/wandb_config.json', 'r') as f:\n",
        "    wandb_dct = json.load(f)\n",
        "# Update parameters\n",
        "wandb_dct[\"WB_ENTITY\"]=\"XXXXXXXX\"\n",
        "wandb_dct[\"WB_PROJECT\"]=\"XXXXXXXX\"\n",
        "wandb_dct[\"WB_KEY\"]=\"XXXXXXXX\"\n",
        "wandb_dct[\"WB_RUN_NAME\"]=\"XXXXXXXX\"\n",
        "# Save new version\n",
        "with open('input/wandb_config.json', 'w') as f:\n",
        "    json.dump(wandb_dct, f)\n",
        "\n",
        "# Training\n",
        "with open('input/training_config.json', 'r') as f:\n",
        "    train_dct = json.load(f)\n",
        "# Update parameters\n",
        "train_dct[\"epochs\"]=5\n",
        "train_dct['warmup_steps_factor'] = 2\n",
        "# Save new version\n",
        "with open('input/training_config.json', 'w') as f:\n",
        "    json.dump(train_dct, f)"
      ],
      "metadata": {
        "id": "CYH1qgYGrXgb"
      },
      "execution_count": null,
      "outputs": []
    },
    {
      "cell_type": "markdown",
      "source": [
        "# Run training & evaluation"
      ],
      "metadata": {
        "id": "3PCOmz6PrpqC"
      }
    },
    {
      "cell_type": "code",
      "source": [
        "!python main.py"
      ],
      "metadata": {
        "id": "pDjX98-2rrHi"
      },
      "execution_count": null,
      "outputs": []
    }
  ]
}