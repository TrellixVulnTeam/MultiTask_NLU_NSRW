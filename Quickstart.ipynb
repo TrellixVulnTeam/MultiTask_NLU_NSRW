{
  "cells": [
    {
      "cell_type": "markdown",
      "metadata": {
        "id": "SC_tUDiIQB31"
      },
      "source": [
        "# Setup"
      ]
    },
    {
      "cell_type": "markdown",
      "metadata": {
        "id": "4pUQuBogZIYE"
      },
      "source": [
        "Clone repo and install requirements"
      ]
    },
    {
      "cell_type": "code",
      "execution_count": null,
      "metadata": {
        "id": "D-72W6c1QDdr"
      },
      "outputs": [],
      "source": [
        "%%script bash\n",
        "git clone https://github.com/hedrergudene/MultiTask_NLU.git\n",
        "cd MultiTask_NLU/components/MultiTask\n",
        "pip install -r requirements.txt\n",
        "python -m spacy download en_core_web_sm"
      ]
    },
    {
      "cell_type": "markdown",
      "metadata": {
        "id": "INHANY96ZE0c"
      },
      "source": [
        "Change working directory"
      ]
    },
    {
      "cell_type": "code",
      "execution_count": null,
      "metadata": {
        "id": "rqvj6Tl_TYR2"
      },
      "outputs": [],
      "source": [
        "%cd MultiTask_NLU/components/MultiTask"
      ]
    },
    {
      "cell_type": "markdown",
      "metadata": {
        "id": "gH1Cs2Z6rjFL"
      },
      "source": [
        "# Change configuration files"
      ]
    },
    {
      "cell_type": "code",
      "execution_count": null,
      "metadata": {
        "id": "CYH1qgYGrXgb"
      },
      "outputs": [],
      "source": [
        "# Load dictionary\n",
        "import json\n",
        "\n",
        "# W&B\n",
        "with open('input/wandb_config.json', 'r') as f:\n",
        "    wandb_dct = json.load(f)\n",
        "# Update parameters\n",
        "wandb_dct[\"WB_ENTITY\"]=\"XXXXXXXX\"\n",
        "wandb_dct[\"WB_PROJECT\"]=\"XXXXXXXX\"\n",
        "wandb_dct[\"WB_KEY\"]=\"XXXXXXXX\"\n",
        "wandb_dct[\"WB_RUN_NAME\"]=\"XXXXXXXX\"\n",
        "# Save new version\n",
        "with open('input/wandb_config.json', 'w') as f:\n",
        "    json.dump(wandb_dct, f)\n",
        "\n",
        "# Training\n",
        "with open('input/training_config.json', 'r') as f:\n",
        "    train_dct = json.load(f)\n",
        "# Update parameters\n",
        "train_dct[\"epochs\"]=5\n",
        "train_dct['warmup_steps_factor'] = 2\n",
        "# Save new version\n",
        "with open('input/training_config.json', 'w') as f:\n",
        "    json.dump(train_dct, f)"
      ]
    },
    {
      "cell_type": "markdown",
      "metadata": {
        "id": "3PCOmz6PrpqC"
      },
      "source": [
        "# Run training & evaluation"
      ]
    },
    {
      "cell_type": "code",
      "execution_count": null,
      "metadata": {
        "id": "pDjX98-2rrHi"
      },
      "outputs": [],
      "source": [
        "!python main.py"
      ]
    }
  ],
  "metadata": {
    "accelerator": "GPU",
    "colab": {
      "collapsed_sections": [
        "EGzk3bgLS8Qn"
      ],
      "machine_shape": "hm",
      "name": "NLP_MultiTask_MultiLang_HuggingFace_MASSIVE.ipynb",
      "provenance": []
    },
    "kernelspec": {
      "display_name": "Python 3",
      "name": "python3"
    },
    "language_info": {
      "name": "python"
    }
  },
  "nbformat": 4,
  "nbformat_minor": 0
}
